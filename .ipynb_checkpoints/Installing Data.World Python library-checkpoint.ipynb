{
 "cells": [
  {
   "cell_type": "markdown",
   "metadata": {},
   "source": [
    "# Install and configure data.world using pip.\n",
    "\n",
    "The data.world python package makes it easy to download datasets, run queries, and upload data all using data.world's REST API."
   ]
  },
  {
   "cell_type": "markdown",
   "metadata": {},
   "source": [
    "1. Using the command line, install the data.world package from PyPI."
   ]
  },
  {
   "cell_type": "code",
   "execution_count": 3,
   "metadata": {},
   "outputs": [
    {
     "name": "stdout",
     "output_type": "stream",
     "text": [
      "Collecting datadotworld[pandas]\n",
      "  Using cached https://files.pythonhosted.org/packages/eb/2d/564c9b9056c414528f7a91c48bc33f2243bd5323ac07d52269002bd3d6c6/datadotworld-1.7.0-py2.py3-none-any.whl\n",
      "Requirement already satisfied: certifi>=2017.04.17 in c:\\programdata\\anaconda3\\lib\\site-packages (from datadotworld[pandas]) (2019.6.16)\n",
      "Requirement already satisfied: six<2.0a,>=1.5.0 in c:\\programdata\\anaconda3\\lib\\site-packages (from datadotworld[pandas]) (1.12.0)\n",
      "Collecting datapackage<2.0a,>=1.6.2 (from datadotworld[pandas])\n",
      "  Using cached https://files.pythonhosted.org/packages/08/ff/85c2e70640770c169f2ab4a53dfa8f86fa73bcbfe071a1d477f7c0be7a1d/datapackage-1.13.0-py2.py3-none-any.whl\n",
      "Collecting configparser<4.0a,>=3.5.0 (from datadotworld[pandas])\n",
      "  Using cached https://files.pythonhosted.org/packages/ab/1a/ec151e5e703ac80041eaccef923611bbcec2b667c20383655a06962732e9/configparser-3.8.1-py2.py3-none-any.whl\n",
      "Collecting tabulator>=1.22.0 (from datadotworld[pandas])\n",
      "  Using cached https://files.pythonhosted.org/packages/65/38/6af6d521c384a3e935fedcb3ff3229a0f90cb4b7c9b4de25d00a58f36413/tabulator-1.38.4-py2.py3-none-any.whl\n",
      "Requirement already satisfied: requests<3.0a,>=2.0.0 in c:\\programdata\\anaconda3\\lib\\site-packages (from datadotworld[pandas]) (2.22.0)\n",
      "Requirement already satisfied: urllib3<2.0a,>=1.15 in c:\\programdata\\anaconda3\\lib\\site-packages (from datadotworld[pandas]) (1.24.2)\n",
      "Collecting tableschema<2.0a,>=1.5.2 (from datadotworld[pandas])\n",
      "  Using cached https://files.pythonhosted.org/packages/8e/d1/05e1870d733fdf580a3c91a93fae773a3d186dad2b703e82a523d95f848b/tableschema-1.16.2-py2.py3-none-any.whl\n",
      "Requirement already satisfied: python-dateutil<3.0a,>=2.6.0 in c:\\programdata\\anaconda3\\lib\\site-packages (from datadotworld[pandas]) (2.8.0)\n",
      "Collecting click<7.0a,>=6.0 (from datadotworld[pandas])\n",
      "  Using cached https://files.pythonhosted.org/packages/34/c1/8806f99713ddb993c5366c362b2f908f18269f8d792aff1abfd700775a77/click-6.7-py2.py3-none-any.whl\n",
      "Requirement already satisfied: numpy<=1.16.4; extra == \"pandas\" in c:\\programdata\\anaconda3\\lib\\site-packages (from datadotworld[pandas]) (1.16.4)\n",
      "Requirement already satisfied: pandas<0.25; extra == \"pandas\" in c:\\programdata\\anaconda3\\lib\\site-packages (from datadotworld[pandas]) (0.24.2)\n",
      "Requirement already satisfied: unicodecsv>=0.14 in c:\\programdata\\anaconda3\\lib\\site-packages (from datapackage<2.0a,>=1.6.2->datadotworld[pandas]) (0.14.1)\n",
      "Requirement already satisfied: jsonschema>=2.5 in c:\\programdata\\anaconda3\\lib\\site-packages (from datapackage<2.0a,>=1.6.2->datadotworld[pandas]) (3.0.1)\n",
      "Collecting jsonpointer>=1.10 (from datapackage<2.0a,>=1.6.2->datadotworld[pandas])\n",
      "  Using cached https://files.pythonhosted.org/packages/18/b0/a80d29577c08eea401659254dfaed87f1af45272899e1812d7e01b679bc5/jsonpointer-2.0-py2.py3-none-any.whl\n",
      "Requirement already satisfied: chardet>=3.0 in c:\\programdata\\anaconda3\\lib\\site-packages (from datapackage<2.0a,>=1.6.2->datadotworld[pandas]) (3.0.4)\n",
      "Collecting ijson>=3.0.3 (from tabulator>=1.22.0->datadotworld[pandas])\n",
      "  Using cached https://files.pythonhosted.org/packages/ec/8d/e7490c0308ef51297e6af298c0b87960346c4bbfc2ddd0ce6f2c4e7a2657/ijson-3.0.3-cp37-cp37m-win_amd64.whl\n",
      "Requirement already satisfied: openpyxl>=2.6 in c:\\programdata\\anaconda3\\lib\\site-packages (from tabulator>=1.22.0->datadotworld[pandas]) (2.6.2)\n",
      "Collecting jsonlines>=1.1 (from tabulator>=1.22.0->datadotworld[pandas])\n",
      "  Using cached https://files.pythonhosted.org/packages/4f/9a/ab96291470e305504aa4b7a2e0ec132e930da89eb3ca7a82fbe03167c131/jsonlines-1.2.0-py2.py3-none-any.whl\n",
      "Requirement already satisfied: sqlalchemy>=0.9.6 in c:\\programdata\\anaconda3\\lib\\site-packages (from tabulator>=1.22.0->datadotworld[pandas]) (1.3.5)\n",
      "Collecting linear-tsv>=1.0 (from tabulator>=1.22.0->datadotworld[pandas])\n",
      "Requirement already satisfied: xlrd>=1.0 in c:\\programdata\\anaconda3\\lib\\site-packages (from tabulator>=1.22.0->datadotworld[pandas]) (1.2.0)\n",
      "Collecting boto3>=1.9 (from tabulator>=1.22.0->datadotworld[pandas])\n",
      "  Using cached https://files.pythonhosted.org/packages/8c/b9/d9da1f57c0535afacbdf20f3f0ce0c6cdae1b8adab0fd48459c6d72222e5/boto3-1.12.46-py2.py3-none-any.whl\n",
      "Requirement already satisfied: idna<2.9,>=2.5 in c:\\programdata\\anaconda3\\lib\\site-packages (from requests<3.0a,>=2.0.0->datadotworld[pandas]) (2.8)\n",
      "Collecting isodate>=0.5.4 (from tableschema<2.0a,>=1.5.2->datadotworld[pandas])\n",
      "  Using cached https://files.pythonhosted.org/packages/9b/9f/b36f7774ff5ea8e428fdcfc4bb332c39ee5b9362ddd3d40d9516a55221b2/isodate-0.6.0-py2.py3-none-any.whl\n",
      "Collecting rfc3986>=1.1.0 (from tableschema<2.0a,>=1.5.2->datadotworld[pandas])\n",
      "  Using cached https://files.pythonhosted.org/packages/78/be/7b8b99fd74ff5684225f50dd0e865393d2265656ef3b4ba9eaaaffe622b8/rfc3986-1.4.0-py2.py3-none-any.whl\n",
      "Requirement already satisfied: pytz>=2011k in c:\\programdata\\anaconda3\\lib\\site-packages (from pandas<0.25; extra == \"pandas\"->datadotworld[pandas]) (2019.1)\n",
      "Requirement already satisfied: attrs>=17.4.0 in c:\\programdata\\anaconda3\\lib\\site-packages (from jsonschema>=2.5->datapackage<2.0a,>=1.6.2->datadotworld[pandas]) (19.1.0)\n",
      "Requirement already satisfied: pyrsistent>=0.14.0 in c:\\programdata\\anaconda3\\lib\\site-packages (from jsonschema>=2.5->datapackage<2.0a,>=1.6.2->datadotworld[pandas]) (0.14.11)\n",
      "Requirement already satisfied: setuptools in c:\\programdata\\anaconda3\\lib\\site-packages (from jsonschema>=2.5->datapackage<2.0a,>=1.6.2->datadotworld[pandas]) (41.0.1)\n",
      "Requirement already satisfied: et-xmlfile in c:\\programdata\\anaconda3\\lib\\site-packages (from openpyxl>=2.6->tabulator>=1.22.0->datadotworld[pandas]) (1.0.1)\n",
      "Requirement already satisfied: jdcal in c:\\programdata\\anaconda3\\lib\\site-packages (from openpyxl>=2.6->tabulator>=1.22.0->datadotworld[pandas]) (1.4.1)\n",
      "Collecting s3transfer<0.4.0,>=0.3.0 (from boto3>=1.9->tabulator>=1.22.0->datadotworld[pandas])\n",
      "  Using cached https://files.pythonhosted.org/packages/69/79/e6afb3d8b0b4e96cefbdc690f741d7dd24547ff1f94240c997a26fa908d3/s3transfer-0.3.3-py2.py3-none-any.whl\n",
      "Collecting botocore<1.16.0,>=1.15.46 (from boto3>=1.9->tabulator>=1.22.0->datadotworld[pandas])\n",
      "  Using cached https://files.pythonhosted.org/packages/6c/21/d015b86c8fa291f78e8fe7d7cf0a60645989efa5db5e8302e2b7ccf9539a/botocore-1.15.46-py2.py3-none-any.whl\n",
      "Collecting jmespath<1.0.0,>=0.7.1 (from boto3>=1.9->tabulator>=1.22.0->datadotworld[pandas])\n",
      "  Using cached https://files.pythonhosted.org/packages/a3/43/1e939e1fcd87b827fe192d0c9fc25b48c5b3368902bfb913de7754b0dc03/jmespath-0.9.5-py2.py3-none-any.whl\n",
      "Requirement already satisfied: docutils<0.16,>=0.10 in c:\\programdata\\anaconda3\\lib\\site-packages (from botocore<1.16.0,>=1.15.46->boto3>=1.9->tabulator>=1.22.0->datadotworld[pandas]) (0.14)\n",
      "Installing collected packages: ijson, jsonlines, linear-tsv, click, jmespath, botocore, s3transfer, boto3, tabulator, jsonpointer, isodate, rfc3986, tableschema, datapackage, configparser, datadotworld\n",
      "Successfully installed boto3-1.12.46 botocore-1.15.46 click-6.7 configparser-3.8.1 datadotworld-1.7.0 datapackage-1.13.0 ijson-3.0.3 isodate-0.6.0 jmespath-0.9.5 jsonlines-1.2.0 jsonpointer-2.0 linear-tsv-1.1.0 rfc3986-1.4.0 s3transfer-0.3.3 tableschema-1.16.2 tabulator-1.38.4\n",
      "Note: you may need to restart the kernel to use updated packages.\n"
     ]
    },
    {
     "name": "stderr",
     "output_type": "stream",
     "text": [
      "  WARNING: The script tabulator.exe is installed in 'C:\\Users\\herref01\\AppData\\Roaming\\Python\\Python37\\Scripts' which is not on PATH.\n",
      "  Consider adding this directory to PATH or, if you prefer to suppress this warning, use --no-warn-script-location.\n",
      "  WARNING: The script tableschema.exe is installed in 'C:\\Users\\herref01\\AppData\\Roaming\\Python\\Python37\\Scripts' which is not on PATH.\n",
      "  Consider adding this directory to PATH or, if you prefer to suppress this warning, use --no-warn-script-location.\n",
      "  WARNING: The script datapackage.exe is installed in 'C:\\Users\\herref01\\AppData\\Roaming\\Python\\Python37\\Scripts' which is not on PATH.\n",
      "  Consider adding this directory to PATH or, if you prefer to suppress this warning, use --no-warn-script-location.\n",
      "  WARNING: The script dw.exe is installed in 'C:\\Users\\herref01\\AppData\\Roaming\\Python\\Python37\\Scripts' which is not on PATH.\n",
      "  Consider adding this directory to PATH or, if you prefer to suppress this warning, use --no-warn-script-location.\n"
     ]
    }
   ],
   "source": [
    "pip install --user datadotworld[pandas]"
   ]
  },
  {
   "cell_type": "markdown",
   "metadata": {},
   "source": [
    "2. Configure the package via the command line.\n",
    "\n",
    "Configure the package via the command line."
   ]
  },
  {
   "cell_type": "code",
   "execution_count": null,
   "metadata": {},
   "outputs": [],
   "source": [
    "dw configure"
   ]
  },
  {
   "cell_type": "code",
   "execution_count": null,
   "metadata": {},
   "outputs": [],
   "source": []
  }
 ],
 "metadata": {
  "kernelspec": {
   "display_name": "Python 3",
   "language": "python",
   "name": "python3"
  },
  "language_info": {
   "codemirror_mode": {
    "name": "ipython",
    "version": 3
   },
   "file_extension": ".py",
   "mimetype": "text/x-python",
   "name": "python",
   "nbconvert_exporter": "python",
   "pygments_lexer": "ipython3",
   "version": "3.7.3"
  }
 },
 "nbformat": 4,
 "nbformat_minor": 2
}
